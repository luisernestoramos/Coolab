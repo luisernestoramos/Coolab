{
  "cells": [
    {
      "cell_type": "markdown",
      "metadata": {
        "id": "view-in-github",
        "colab_type": "text"
      },
      "source": [
        "<a href=\"https://colab.research.google.com/github/KeimaSenpai/Deploy/blob/main/deploy.ipynb\" target=\"_parent\"><img src=\"https://colab.research.google.com/assets/colab-badge.svg\" alt=\"Open In Colab\"/></a>"
      ]
    },
    {
      "cell_type": "code",
      "source": [
        "import os\n",
        "import shutil\n",
        "from IPython.display import clear_output\n",
        "\n",
        "\n",
        "#@markdown <font color=ORANGE>🔗 Please enter the GitHub repository URL: 🔗\n",
        "GITHUB_URL = \"\"  #@param {type:\"string\"}\n",
        "\n",
        "# Determine base directory based on environment\n",
        "base_dir = './repo'  # Save repo in ./repo directory relative to current directory\n",
        "\n",
        "# Function to clone or update the repository\n",
        "def clone_or_update_repo(repo_url, base_directory):\n",
        "    repo_name = os.path.basename(repo_url).replace('.git', '')\n",
        "    project_dir = os.path.join(base_directory, repo_name)\n",
        "\n",
        "    # Check if the repository directory exists\n",
        "    if os.path.exists(project_dir):\n",
        "        print(f\"Deleting existing repository at: {project_dir} ...\")\n",
        "        shutil.rmtree(project_dir)\n",
        "        print(\"Deleted existing repository successfully!\")\n",
        "\n",
        "    # Clone the repository\n",
        "    print(f\"Cloning repository from {repo_url}...\")\n",
        "    clone_cmd = f\"git clone {repo_url} {project_dir}\"\n",
        "    os.system(clone_cmd)\n",
        "    print(\"Repository cloned successfully!\")\n",
        "\n",
        "    return project_dir\n",
        "\n",
        "# Clone or update the repository\n",
        "project_dir = clone_or_update_repo(GITHUB_URL, base_dir)\n",
        "\n",
        "# Navigate to the project directory\n",
        "print(f\"Entering project directory: {os.path.basename(project_dir)}...\")\n",
        "os.chdir(project_dir)\n",
        "print(\"Entered project directory successfully!\")\n",
        "\n",
        "clear_output()\n",
        "\n",
        "#@markdown <font color=ORANGE>🔧 Please enter the requirements.txt file path: 🔧\n",
        "PIP_INSTALL = \"requirements.txt\"  #@param {type:\"string\"}\n",
        "\n",
        "# Install required dependencies\n",
        "print(\"Installing required dependencies...\")\n",
        "!pip install -r {PIP_INSTALL}\n",
        "print(\"All requirements installed successfully!\")\n",
        "\n",
        "clear_output()\n",
        "\n",
        "#@markdown <font color=ORANGE>🎥 Install FFMPEG? 🎥\n",
        "install_ffmpeg = \"No\"  #@param [\"Yes\", \"No\"]\n",
        "if install_ffmpeg == \"Yes\":\n",
        "    print(\"Installing FFMPEG...\")\n",
        "    os.system(\"apt-get install ffmpeg -qq\")  # Install ffmpeg quietly\n",
        "    print(\"FFMPEG installed successfully!\")\n",
        "else:\n",
        "    print(\"Skipping FFMPEG installation.\")\n",
        "\n",
        "#@markdown ### <font color=ORANGE>🔧 Environment Variables 🔧\n",
        "\n",
        "\n",
        "#@markdown <center> </font> <font color=green>✍️ Paste Your Telegram BOT TOKEN From ≫ @BotFather <img src='https://i.ibb.co/Fw8McpS/Telegram-Bot-token.png' height=\"40\" /> </center> { display-mode: \"form\" }\n",
        "\n",
        "TELEGRAM_TOKEN = \"\"  #@param {type:\"string\"}\n",
        "os.environ['TELEGRAM_TOKEN'] = TELEGRAM_TOKEN\n",
        "\n",
        "clear_output()\n",
        "\n",
        "#@markdown <font color=ORANGE>🔧 Please enter the Profile command: 🔧\n",
        "RUN_COMMAND = \"python3 main.py\"  #@param {type:\"string\"}\n",
        "\n",
        "# Run the bot\n",
        "print(f\"Running command: {RUN_COMMAND} ...\")\n",
        "!{RUN_COMMAND}\n",
        "print(\"✔️ Execution completed!\")\n"
      ],
      "metadata": {
        "cellView": "form",
        "id": "ex0Bdbjig0Oa",
        "outputId": "9576e625-cf77-4a41-9d22-4244262cba2f",
        "colab": {
          "base_uri": "https://localhost:8080/"
        }
      },
      "execution_count": null,
      "outputs": [
        {
          "metadata": {
            "tags": null
          },
          "name": "stdout",
          "output_type": "stream",
          "text": [
            "Running command: python3 main.py ...\n",
            "/usr/local/lib/python3.10/dist-packages/telegram/ext/conversationhandler.py:288: UserWarning: If 'per_message=False', 'CallbackQueryHandler' will not be tracked for every message.\n",
            "  warnings.warn(\n",
            "2024-07-19 19:50:42,771 - apscheduler.scheduler - INFO - Scheduler started\n"
          ]
        }
      ]
    }
  ],
  "metadata": {
    "colab": {
      "name": "Te damos la bienvenida a Colaboratory",
      "toc_visible": true,
      "provenance": [],
      "include_colab_link": true
    },
    "kernelspec": {
      "display_name": "Python 3",
      "name": "python3"
    }
  },
  "nbformat": 4,
  "nbformat_minor": 0
}
