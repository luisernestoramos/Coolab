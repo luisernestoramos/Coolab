import os
import shutil
from IPython.display import clear_output

# @markdown <br><center><h2><strong><font color=red>🔗 KeimaSenpai 🔗</strong></h2></center>

#@markdown <font color=ORANGE>🔗 Coloque la URL de su repo de GitHub: 🔗
GITHUB_URL = "https://github.com/KeimaSenpai/XSubAproba"  #@param {type:"string"}

# Determine base directory based on environment
base_dir = './repo'  # Save repo in ./repo directory relative to current directory

# Function to clone or update the repository
def clone_or_update_repo(repo_url, base_directory):
    repo_name = os.path.basename(repo_url).replace('.git', '')
    project_dir = os.path.join(base_directory, repo_name)

    # Check if the repository directory exists
    if os.path.exists(project_dir):
        print(f"Repository already exists at: {project_dir}. Skipping clone.")
        return project_dir
    else:
        # Clone the repository
        print(f"Cloning repository from {repo_url}...")
        clone_cmd = f"git clone {repo_url} {project_dir}"
        os.system(clone_cmd)
        print("Repository cloned successfully!")

    return project_dir

# Clone or update the repository
project_dir = clone_or_update_repo(GITHUB_URL, base_dir)

# Navigate to the project directory
print(f"Entering project directory: {os.path.basename(project_dir)}...")
os.chdir(project_dir)
print("Entered project directory successfully!")

clear_output()

#@markdown <font color=ORANGE>🔧 Coloque la ruta del requirements.txt: 🔧
PIP_INSTALL = "requirements.txt"  #@param {type:"string"}

# Install required dependencies
print("Installing required dependencies...")
!pip install -r {PIP_INSTALL}
print("All requirements installed successfully!")

clear_output()

#@markdown <font color=ORANGE>🎥 Install FFMPEG? 🎥
install_ffmpeg = "No"  #@param ["Yes", "No"]
if install_ffmpeg == "Yes":
    print("Installing FFMPEG...")
    os.system("apt-get install ffmpeg -qq")  # Install ffmpeg quietly
    print("FFMPEG installed successfully!")
else:
    print("Skipping FFMPEG installation.")

#@markdown ### <font color=ORANGE>🔧 Variables de Entorno 🔧


API_ID = ""  #@param {type:"string"}
os.environ['API_ID'] = API_ID

API_HASH = ""  #@param {type:"string"}
os.environ['API_HASH'] = API_HASH

OWNER_ID = "" #@param {type:"string"}
os.environ['OWNER_ID'] = OWNER_ID

#@markdown <center> </font> <font color=green>✍️ Paste Your Telegram BOT TOKEN { display-mode: "form" }

BOT_TOKEN = ""  #@param {type:"string"}
os.environ['BOT_TOKEN'] = BOT_TOKEN

clear_output()

#@markdown <font color=ORANGE>🔧 Comando para iniciar el bot: 🔧
RUN_COMMAND = "python3 bot.py"  #@param {type:"string"}

# Run the bot
print(f"Running command: {RUN_COMMAND} ...")
!{RUN_COMMAND}
print("✔️ Execution completed!")
